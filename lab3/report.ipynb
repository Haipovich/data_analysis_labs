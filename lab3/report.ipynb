{
 "cells": [
  {
   "cell_type": "markdown",
   "id": "f0930ae7",
   "metadata": {},
   "source": [
    "Задача 1 (6 баллов). \n",
    "В файле «global-electricity-generation.csv» представлена информация о производстве электроэнергии странами с 1992 по 2021 год. В файле\n",
    "«global-electricity-consumption.csv» – информация о потреблении электроэнергии. Все данные – в млрд. кВт*ч."
   ]
  },
  {
   "cell_type": "markdown",
   "id": "9d17ca6c",
   "metadata": {},
   "source": [
    "1. Загрузите информацию из этих файлов.\n",
    "Указание: рекомендуется воспользоваться функцией genfromtxt. Обратите внимание, что данные в файлах разделены запятой, в обоих файлах есть заголовок, который при загрузке нужно пропустить. Для корректной загрузки названий стран необходимо также указать тип данных (по умолчанию загружаемые данные преобразуются в вещественный тип). Вы можете либо собрать все данные в один массив записей, либо работать с тремя разными массивами: массив названий стран (одномерный, строки), массивы\n",
    "производства и потребления энергии (двумерные, вещественные)). Порядок стран в двух исходных файлах одинаковый."
   ]
  },
  {
   "cell_type": "code",
   "execution_count": null,
   "id": "49f9e501",
   "metadata": {},
   "outputs": [
    {
     "name": "stdout",
     "output_type": "stream",
     "text": [
      "Загружено стран: 217\n",
      "Года: 1992–2021 (30 лет)\n"
     ]
    }
   ],
   "source": [
    "import numpy as np\n",
    "\n",
    "countries = np.genfromtxt(\n",
    "    'global-electricity-generation.csv',\n",
    "    delimiter=',',\n",
    "    dtype=str,\n",
    "    skip_header=1,\n",
    "    usecols=0\n",
    ")\n",
    "\n",
    "generation = np.genfromtxt(\n",
    "    'global-electricity-generation.csv',\n",
    "    delimiter=',',\n",
    "    dtype=float,\n",
    "    skip_header=1,\n",
    "    usecols=range(1, 31)\n",
    ")\n",
    "\n",
    "consumption = np.genfromtxt(\n",
    "    'global-electricity-consumption.csv',\n",
    "    delimiter=',',\n",
    "    dtype=float,\n",
    "    skip_header=1,\n",
    "    usecols=range(1, 31)\n",
    ")\n",
    "\n",
    "print(\"Countries loaded:\", len(countries))"
   ]
  },
  {
   "cell_type": "markdown",
   "id": "7bc74e09",
   "metadata": {},
   "source": [
    "2. Создание массивов средних значений за последние 5 лет (2017–2021)\n",
    "Последние 5 лет → индексы: 25, 26, 27, 28, 29\n",
    "np.nanmean игнорирует NaN — это важно, если есть пропущенные данные.\n",
    "В агрегирующих функциях для построчной обработки нужно указывать параметр axis=1."
   ]
  },
  {
   "cell_type": "code",
   "execution_count": 2,
   "id": "09aa4b57",
   "metadata": {},
   "outputs": [
    {
     "name": "stderr",
     "output_type": "stream",
     "text": [
      "/tmp/ipykernel_24138/1723355615.py:1: RuntimeWarning: Mean of empty slice\n",
      "  avg_gen_last5 = np.nanmean(generation[:, 25:30], axis=1)\n"
     ]
    }
   ],
   "source": [
    "avg_gen_last5 = np.nanmean(generation[:, 25:30], axis=1)\n",
    "avg_cons_last5 = np.nanmean(consumption[:, 25:30], axis=1)"
   ]
  },
  {
   "cell_type": "markdown",
   "id": "9bff956a",
   "metadata": {},
   "source": [
    "3. Напишите выражения, позволяющие получить ответ на следующие вопросы:"
   ]
  },
  {
   "cell_type": "markdown",
   "id": "65ebbf08",
   "metadata": {},
   "source": [
    "3.1. Суммарное (по всем странам) потребление электроэнергии за каждый год."
   ]
  },
  {
   "cell_type": "code",
   "execution_count": 3,
   "id": "f9f402f2",
   "metadata": {},
   "outputs": [
    {
     "name": "stdout",
     "output_type": "stream",
     "text": [
      "Total consumption by year (billion kWh):\n",
      "1992: 10569.02\n",
      "1993: 10854.56\n",
      "1994: 11104.65\n",
      "1995: 11476.48\n",
      "1996: 11805.87\n",
      "1997: 12122.03\n",
      "1998: 12419.81\n",
      "1999: 12685.75\n",
      "2000: 13230.25\n",
      "2001: 13486.49\n",
      "2002: 13938.78\n",
      "2003: 14455.56\n",
      "2004: 15128.10\n",
      "2005: 15725.98\n",
      "2006: 16438.21\n",
      "2007: 17205.12\n",
      "2008: 17477.47\n",
      "2009: 17435.69\n",
      "2010: 18748.16\n",
      "2011: 19438.82\n",
      "2012: 19918.25\n",
      "2013: 20573.10\n",
      "2014: 20981.24\n",
      "2015: 21400.02\n",
      "2016: 22022.69\n",
      "2017: 22716.21\n",
      "2018: 23530.92\n",
      "2019: 23915.66\n",
      "2020: 23959.68\n",
      "2021: 25336.71\n"
     ]
    }
   ],
   "source": [
    "total_consumption_per_year = np.nansum(consumption, axis=0)\n",
    "print(\"Total consumption by year (billion kWh):\")\n",
    "for i, year in enumerate(range(1992, 2022)):\n",
    "    print(f\"{year}: {total_consumption_per_year[i]:.2f}\")"
   ]
  },
  {
   "cell_type": "markdown",
   "id": "15fee7ef",
   "metadata": {},
   "source": [
    "3.2. Максимальное количество электроэнергии, которое произвела одна страна за один год (указание: чтобы не учитывать отсутствующие и некорректные данные (nan) воспользуйтесь NaN-безопасной версией функции max, то есть nanmax)."
   ]
  },
  {
   "cell_type": "code",
   "execution_count": 4,
   "id": "97ac1882",
   "metadata": {},
   "outputs": [
    {
     "name": "stdout",
     "output_type": "stream",
     "text": [
      "Maximum annual production by one country: 8151.52 billion kWh\n"
     ]
    }
   ],
   "source": [
    "max_production = np.nanmax(generation)\n",
    "print(f\"Maximum annual production by one country: {max_production:.2f} billion kWh\")"
   ]
  },
  {
   "cell_type": "markdown",
   "id": "0c02d857",
   "metadata": {},
   "source": [
    "3.3. Список стран, которые производят более 500 млрд. кВт*ч электроэнергии ежегодно в среднем за последние 5 лет (воспользуйтесь массивом, полученным на шаге 2)."
   ]
  },
  {
   "cell_type": "code",
   "execution_count": 5,
   "id": "2862941a",
   "metadata": {},
   "outputs": [
    {
     "name": "stdout",
     "output_type": "stream",
     "text": [
      "Countries producing on average >500 billion kWh over the last 5 years:\n",
      "Russia\n",
      "France\n",
      "Germany\n",
      "China\n",
      "India\n",
      "Japan\n",
      "South Korea\n",
      "Canada\n",
      "United States\n",
      "Brazil\n"
     ]
    }
   ],
   "source": [
    "high_producers_mask = avg_gen_last5 > 500\n",
    "high_producers = countries[high_producers_mask]\n",
    "print(\"Countries producing on average >500 billion kWh over the last 5 years:\")\n",
    "for country in high_producers:\n",
    "    print(country)"
   ]
  },
  {
   "cell_type": "markdown",
   "id": "80202d08",
   "metadata": {},
   "source": [
    "3.4. 10% стран, которые потребляют больше всего электроэнергии ежегодно в среднем за последние 5 лет (указание: вначале определите соответствующую квантиль в массиве, построенном на шаге 2)."
   ]
  },
  {
   "cell_type": "code",
   "execution_count": 6,
   "id": "abb84030",
   "metadata": {},
   "outputs": [
    {
     "name": "stdout",
     "output_type": "stream",
     "text": [
      "Top 10% threshold: 198.31 billion kWh\n",
      "Countries in the top 10% by consumption:\n",
      "South Africa\n",
      "Russia\n",
      "France\n",
      "Germany\n",
      "Italy\n",
      "Spain\n",
      "Turkiye\n",
      "United Kingdom\n",
      "Australia\n",
      "China\n",
      "India\n",
      "Indonesia\n",
      "Japan\n",
      "South Korea\n",
      "Taiwan\n",
      "Vietnam\n",
      "Iran\n",
      "Saudi Arabia\n",
      "Canada\n",
      "Mexico\n",
      "United States\n",
      "Brazil\n"
     ]
    }
   ],
   "source": [
    "threshold_90 = np.nanpercentile(avg_cons_last5, 90)\n",
    "\n",
    "top10_percent_mask = avg_cons_last5 >= threshold_90\n",
    "top10_countries = countries[top10_percent_mask]\n",
    "\n",
    "print(f\"Top 10% threshold: {threshold_90:.2f} billion kWh\")\n",
    "print(\"Countries in the top 10% by consumption:\")\n",
    "for country in top10_countries:\n",
    "    print(country)"
   ]
  },
  {
   "cell_type": "markdown",
   "id": "2b8eeee4",
   "metadata": {},
   "source": [
    "3.5. Список стран, которые увеличили производство электроэнергии в 2021 году по сравнению с 1992 годом более, чем в 10 раз."
   ]
  },
  {
   "cell_type": "code",
   "execution_count": 7,
   "id": "0b434942",
   "metadata": {},
   "outputs": [
    {
     "name": "stdout",
     "output_type": "stream",
     "text": [
      "Countries that increased production more than 10-fold from 1992 to 2021:\n",
      "Angola\n",
      "Benin\n",
      "Equatorial Guinea\n",
      "Ethiopia\n",
      "Mali\n",
      "Mauritania\n",
      "Mozambique\n",
      "Sudan\n",
      "Cambodia\n",
      "China\n",
      "Laos\n",
      "Maldives\n",
      "Vietnam\n",
      "Turks and Caicos Islands\n"
     ]
    },
    {
     "name": "stderr",
     "output_type": "stream",
     "text": [
      "/tmp/ipykernel_24138/1755747688.py:4: RuntimeWarning: divide by zero encountered in divide\n",
      "  increased_10x_mask = (prod_1992 > 0) & (prod_2021 / prod_1992 > 10)\n",
      "/tmp/ipykernel_24138/1755747688.py:4: RuntimeWarning: invalid value encountered in divide\n",
      "  increased_10x_mask = (prod_1992 > 0) & (prod_2021 / prod_1992 > 10)\n"
     ]
    }
   ],
   "source": [
    "prod_1992 = generation[:, 0]\n",
    "prod_2021 = generation[:, 29]\n",
    "\n",
    "increased_10x_mask = (prod_1992 > 0) & (prod_2021 / prod_1992 > 10)\n",
    "increased_10x_countries = countries[increased_10x_mask]\n",
    "\n",
    "print(\"Countries that increased production more than 10-fold from 1992 to 2021:\")\n",
    "for country in increased_10x_countries:\n",
    "    print(country)"
   ]
  },
  {
   "cell_type": "markdown",
   "id": "0cffd725",
   "metadata": {},
   "source": [
    "3.6. Список стран, которые в сумме за все годы потратили больше 100 млрд. кВт*ч электроэнергии и при этом произвели меньше, чем потратили."
   ]
  },
  {
   "cell_type": "code",
   "execution_count": 8,
   "id": "94ca4370",
   "metadata": {},
   "outputs": [
    {
     "name": "stdout",
     "output_type": "stream",
     "text": [
      "Countries that spent >100 billion in total and produced less than they spent:\n",
      "Zimbabwe: produced 238.18, spent 260.62\n",
      "Belarus: produced 895.46, spent 922.33\n",
      "Moldova: produced 180.22, spent 202.82\n",
      "Belgium: produced 2342.36, spent 2395.91\n",
      "Croatia: produced 342.39, spent 418.57\n",
      "Finland: produced 2069.42, spent 2356.64\n",
      "Hungary: produced 981.68, spent 1066.96\n",
      "Italy: produced 7879.03, spent 8576.57\n",
      "Latvia: produced 146.66, spent 179.29\n",
      "Luxembourg: produced 38.27, spent 177.54\n",
      "Netherlands: produced 2896.51, spent 3106.41\n",
      "North Macedonia: produced 177.76, spent 186.88\n",
      "Hong Kong: produced 998.42, spent 1152.85\n"
     ]
    }
   ],
   "source": [
    "total_gen = np.nansum(generation, axis=1)\n",
    "total_cons = np.nansum(consumption, axis=1)\n",
    "\n",
    "condition_mask = (total_cons > 100) & (total_gen < total_cons)\n",
    "countries_condition = countries[condition_mask]\n",
    "\n",
    "print(\"Countries that spent >100 billion in total and produced less than they spent:\")\n",
    "for country in countries_condition:\n",
    "    print(f\"{country}: produced {total_gen[condition_mask][list(countries_condition).index(country)]:.2f}, \"\n",
    "          f\"spent {total_cons[condition_mask][list(countries_condition).index(country)]:.2f}\")"
   ]
  },
  {
   "cell_type": "markdown",
   "id": "d8a6f5e0",
   "metadata": {},
   "source": [
    "3.7. Какая страна потратила наибольшее количество электроэнергии в 2020 году?"
   ]
  },
  {
   "cell_type": "code",
   "execution_count": 9,
   "id": "877877f9",
   "metadata": {},
   "outputs": [
    {
     "name": "stdout",
     "output_type": "stream",
     "text": [
      "Highest consumption in 2020: China — 7115.08 billion kWh\n"
     ]
    }
   ],
   "source": [
    "cons_2020 = consumption[:, 28]\n",
    "max_cons_2020_idx = np.nanargmax(cons_2020)\n",
    "max_cons_2020_country = countries[max_cons_2020_idx]\n",
    "max_cons_2020_value = cons_2020[max_cons_2020_idx]\n",
    "\n",
    "print(f\"Highest consumption in 2020: {max_cons_2020_country} — {max_cons_2020_value:.2f} billion kWh\")"
   ]
  },
  {
   "cell_type": "markdown",
   "id": "6209100a",
   "metadata": {},
   "source": [
    "Задача 2 (6 баллов). В файле «data2.csv» представлены данные наблюдений о прибыли (второй столбец) в зависимости от установленной скидки (первый столбец).\n",
    "Комментарий. На самом деле эти данные сгенерированы синтетически, в учебных целях, но смысл значений в этой задаче не важен, и эти данные можно рассматривать как реальный датасет. Бизнес-консультанты считают, что реальная зависимость прибыли от установленной скидки может быть описана квадратичной или кубической функцией (то есть полиномом второй или третьей степени, f(x) = a_2*x^2 +a_1*x+a_0 или\n",
    "f(x) = a_3*x^3 + a_2*x^2 + a_1*x+a_0)."
   ]
  },
  {
   "cell_type": "code",
   "execution_count": 4,
   "id": "5666b1a4",
   "metadata": {},
   "outputs": [],
   "source": [
    "import numpy as np\n",
    "import pandas as pd\n",
    "import scipy.linalg\n",
    "import matplotlib.pyplot as plt\n",
    "\n",
    "data = data = np.genfromtxt('data2.csv', delimiter=';', skip_header=1)\n",
    "x = data[:, 0]\n",
    "y = data[:, 1]"
   ]
  },
  {
   "cell_type": "markdown",
   "id": "f4a10bc5",
   "metadata": {},
   "source": [
    "1. Сформируйте систему линейных уравнений (СЛУ) для полинома 2й степени (для этого нужно выбрать 3 точки, в которых значение полинома должно совпадать с исходными данными; точки лучше выбирать равномерно «разбросанными» по исходным данным, то есть одна в начале имеющегося диапазона данных, одна в конце и одна в середине)."
   ]
  },
  {
   "cell_type": "code",
   "execution_count": null,
   "id": "1cc0ff1f",
   "metadata": {},
   "outputs": [
    {
     "name": "stdout",
     "output_type": "stream",
     "text": [
      "a2=-1.3775, a1=13.7903, a0=-9.2756\n"
     ]
    }
   ],
   "source": [
    "n = len(x)\n",
    "indices_2 = [0, n//2, -1]\n",
    "x2 = x[indices_2]\n",
    "y2 = y[indices_2]\n",
    "\n",
    "A2 = np.vander(x2, 3)\n",
    "\n",
    "b2 = y2"
   ]
  },
  {
   "cell_type": "markdown",
   "id": "3e955517",
   "metadata": {},
   "source": [
    "2. Решите СЛУ (с помощью scipy.linalg.solve), тем самым найдя коэффициенты полинома."
   ]
  },
  {
   "cell_type": "code",
   "execution_count": 8,
   "id": "7b13b692",
   "metadata": {},
   "outputs": [
    {
     "name": "stdout",
     "output_type": "stream",
     "text": [
      "a2=-1.3775, a1=13.7903, a0=-9.2756\n"
     ]
    }
   ],
   "source": [
    "coeffs_2 = scipy.linalg.solve(A2, b2)\n",
    "a2, a1, a0 = coeffs_2\n",
    "\n",
    "print(f\"a2={a2:.4f}, a1={a1:.4f}, a0={a0:.4f}\")"
   ]
  },
  {
   "cell_type": "markdown",
   "id": "428c709d",
   "metadata": {},
   "source": [
    "3. Получите вектор значений построенного полинома для заданных точек."
   ]
  },
  {
   "cell_type": "code",
   "execution_count": 10,
   "id": "dd73e9ad",
   "metadata": {},
   "outputs": [
    {
     "name": "stdout",
     "output_type": "stream",
     "text": [
      "[-6.57266488 -3.97990798 -1.49734781  0.87501564  3.13718236  5.28915236\n",
      "  7.33092563  9.26250217 11.08388198 12.79506506 14.39605142 15.88684106\n",
      " 17.26743396 18.53783014 19.69802959 20.74803231 21.68783831 22.51744758\n",
      " 23.23686012 23.84607594 24.34509503 24.73391739 25.01254302 25.18097193\n",
      " 25.23920411]\n"
     ]
    }
   ],
   "source": [
    "y_poly2 = a2 * x**2 + a1 * x + a0\n",
    "print(y_poly2)"
   ]
  },
  {
   "cell_type": "markdown",
   "id": "c0e9a9e0",
   "metadata": {},
   "source": [
    "4. Постройте в одной области два графика: один по заданным в файле точкам, другой – по полученному вектору."
   ]
  },
  {
   "cell_type": "code",
   "execution_count": 11,
   "id": "99a18f00",
   "metadata": {},
   "outputs": [
    {
     "data": {
      "image/png": "[encoded data removed]",
      "text/plain": [
       "<Figure size 1000x600 with 1 Axes>"
      ]
     },
     "metadata": {},
     "output_type": "display_data"
    }
   ],
   "source": [
    "plt.figure(figsize=(10, 6))\n",
    "plt.plot(x, y, 'o', label='Initial data', color='blue')\n",
    "plt.plot(x, y_poly2, '-', label='Polynomial of the 2nd degree', color='red')\n",
    "plt.xlabel('Discount (%)')\n",
    "plt.ylabel('Profit')\n",
    "plt.title('Approximation by a 2nd degree polynomial')\n",
    "plt.legend()\n",
    "plt.grid(True)\n",
    "plt.show()"
   ]
  },
  {
   "cell_type": "markdown",
   "id": "eaec6e6b",
   "metadata": {},
   "source": [
    "5. Посчитайте значение квадратичного отклонения RSS (оно вычисляется по формуле R SS=∑(n, i=1)(y_i−f(x_i))^2, где y_i – ожидаемые значения (из исходногофайла), f(x_i) – рассчитанные значения полинома)."
   ]
  },
  {
   "cell_type": "code",
   "execution_count": 12,
   "id": "77195b75",
   "metadata": {},
   "outputs": [
    {
     "name": "stdout",
     "output_type": "stream",
     "text": [
      "RSS for a 2nd degree polynomial: 120.7875\n"
     ]
    }
   ],
   "source": [
    "rss_2 = np.sum((y - y_poly2)**2)\n",
    "print(f\"RSS for a 2nd degree polynomial: {rss_2:.4f}\")"
   ]
  },
  {
   "cell_type": "markdown",
   "id": "89032134",
   "metadata": {},
   "source": [
    "6. Повторите шаги 1-5 для полинома 3й степени (для этого нужно будет выбрать 4 точки)."
   ]
  },
  {
   "cell_type": "code",
   "execution_count": 14,
   "id": "21a28b53",
   "metadata": {},
   "outputs": [
    {
     "name": "stdout",
     "output_type": "stream",
     "text": [
      "Coefficients of a third-degree polynomial: a3=-0.5485, a2=2.9039, a1=5.8111, a0=-7.8466\n"
     ]
    },
    {
     "data": {
      "image/png": "[encoded data removed]",
      "text/plain": [
       "<Figure size 1000x600 with 1 Axes>"
      ]
     },
     "metadata": {},
     "output_type": "display_data"
    },
    {
     "name": "stdout",
     "output_type": "stream",
     "text": [
      "RSS for a 3nd degree polynomial: 1.8784\n"
     ]
    }
   ],
   "source": [
    "indices_3 = [0, n//3, 2*n//3, -1]\n",
    "x3 = x[indices_3]\n",
    "y3 = y[indices_3]\n",
    "\n",
    "A3 = np.array([\n",
    "    [x3[0]**3, x3[0]**2, x3[0], 1],\n",
    "    [x3[1]**3, x3[1]**2, x3[1], 1],\n",
    "    [x3[2]**3, x3[2]**2, x3[2], 1],\n",
    "    [x3[3]**3, x3[3]**2, x3[3], 1]\n",
    "])\n",
    "\n",
    "b3 = y3\n",
    "\n",
    "coeffs_3 = scipy.linalg.solve(A3, b3)\n",
    "a3, a2_3, a1_3, a0_3 = coeffs_3\n",
    "\n",
    "print(f\"Coefficients of a third-degree polynomial: a3={a3:.4f}, a2={a2_3:.4f}, a1={a1_3:.4f}, a0={a0_3:.4f}\")\n",
    "\n",
    "y_poly3 = a3 * x**3 + a2_3 * x**2 + a1_3 * x + a0_3\n",
    "\n",
    "plt.figure(figsize=(10, 6))\n",
    "plt.plot(x, y, 'o', label='Initial data', color='blue')\n",
    "plt.plot(x, y_poly3, '-', label='Polynomial of the 3rd degree', color='green')\n",
    "plt.xlabel('Discount (%)')\n",
    "plt.ylabel('Profit')\n",
    "plt.title('Approximation by a 3rd degree polynomial')\n",
    "plt.legend()\n",
    "plt.grid(True)\n",
    "plt.show()\n",
    "\n",
    "rss_3 = np.sum((y - y_poly3)**2)\n",
    "print(f\"RSS for a 3nd degree polynomial: {rss_3:.4f}\")"
   ]
  },
  {
   "cell_type": "markdown",
   "id": "acbafc4f",
   "metadata": {},
   "source": [
    "7. Выберите тот вариант, где значение отклонения (RSS) получается наименьшим. Для этого варианта посчитайте ожидаемое значение прибыли при значениях скидки в 6 и 8 процентов."
   ]
  },
  {
   "cell_type": "code",
   "execution_count": 15,
   "id": "f7ece1af",
   "metadata": {},
   "outputs": [
    {
     "name": "stdout",
     "output_type": "stream",
     "text": [
      "A 3rd degree polynomial fits better.\n",
      "Predicted profit with 6% discount: 13.08\n",
      "Predicted profit with 8% discount: -56.36\n"
     ]
    }
   ],
   "source": [
    "if rss_2 < rss_3:\n",
    "    print(\"A 2nd degree polynomial fits better.\")\n",
    "    best_poly = lambda xi: a2 * xi**2 + a1 * xi + a0\n",
    "else:\n",
    "    print(\"A 3rd degree polynomial fits better.\")\n",
    "    best_poly = lambda xi: a3 * xi**3 + a2_3 * xi**2 + a1_3 * xi + a0_3\n",
    "\n",
    "discount_6 = best_poly(6)\n",
    "discount_8 = best_poly(8)\n",
    "\n",
    "print(f\"Predicted profit with 6% discount: {discount_6:.2f}\")\n",
    "print(f\"Predicted profit with 8% discount: {discount_8:.2f}\")"
   ]
  }
 ],
 "metadata": {
  "kernelspec": {
   "display_name": "env",
   "language": "python",
   "name": "python3"
  },
  "language_info": {
   "codemirror_mode": {
    "name": "ipython",
    "version": 3
   },
   "file_extension": ".py",
   "mimetype": "text/x-python",
   "name": "python",
   "nbconvert_exporter": "python",
   "pygments_lexer": "ipython3",
   "version": "3.13.7"
  }
 },
 "nbformat": 4,
 "nbformat_minor": 5
}
